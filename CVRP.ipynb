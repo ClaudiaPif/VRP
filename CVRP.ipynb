{
 "cells": [
  {
   "cell_type": "code",
   "execution_count": 1,
   "id": "38d4e53d-e045-40bf-9db8-d0339ff722fe",
   "metadata": {},
   "outputs": [
    {
     "name": "stdout",
     "output_type": "stream",
     "text": [
      "Requirement already satisfied: numpy in c:\\users\\claud\\anaconda3\\lib\\site-packages (1.24.3)\n",
      "Note: you may need to restart the kernel to use updated packages.\n"
     ]
    }
   ],
   "source": [
    "pip install numpy"
   ]
  },
  {
   "cell_type": "code",
   "execution_count": 2,
   "id": "7fb01fce-dfb8-40d0-ad63-285fbbdcf478",
   "metadata": {},
   "outputs": [
    {
     "name": "stdout",
     "output_type": "stream",
     "text": [
      "Requirement already satisfied: matplotlib in c:\\users\\claud\\anaconda3\\lib\\site-packages (3.7.1)\n",
      "Requirement already satisfied: contourpy>=1.0.1 in c:\\users\\claud\\anaconda3\\lib\\site-packages (from matplotlib) (1.0.5)\n",
      "Requirement already satisfied: cycler>=0.10 in c:\\users\\claud\\anaconda3\\lib\\site-packages (from matplotlib) (0.11.0)\n",
      "Requirement already satisfied: fonttools>=4.22.0 in c:\\users\\claud\\anaconda3\\lib\\site-packages (from matplotlib) (4.25.0)\n",
      "Requirement already satisfied: kiwisolver>=1.0.1 in c:\\users\\claud\\anaconda3\\lib\\site-packages (from matplotlib) (1.4.4)\n",
      "Requirement already satisfied: numpy>=1.20 in c:\\users\\claud\\anaconda3\\lib\\site-packages (from matplotlib) (1.24.3)\n",
      "Requirement already satisfied: packaging>=20.0 in c:\\users\\claud\\anaconda3\\lib\\site-packages (from matplotlib) (23.0)\n",
      "Requirement already satisfied: pillow>=6.2.0 in c:\\users\\claud\\anaconda3\\lib\\site-packages (from matplotlib) (9.4.0)\n",
      "Requirement already satisfied: pyparsing>=2.3.1 in c:\\users\\claud\\anaconda3\\lib\\site-packages (from matplotlib) (3.0.9)\n",
      "Requirement already satisfied: python-dateutil>=2.7 in c:\\users\\claud\\anaconda3\\lib\\site-packages (from matplotlib) (2.8.2)\n",
      "Requirement already satisfied: six>=1.5 in c:\\users\\claud\\anaconda3\\lib\\site-packages (from python-dateutil>=2.7->matplotlib) (1.16.0)\n",
      "Note: you may need to restart the kernel to use updated packages.\n"
     ]
    }
   ],
   "source": [
    "pip install matplotlib"
   ]
  },
  {
   "cell_type": "code",
   "execution_count": 3,
   "id": "1adfb65d-3eb4-4ead-8e57-f51cc4485a29",
   "metadata": {},
   "outputs": [
    {
     "name": "stdout",
     "output_type": "stream",
     "text": [
      "Requirement already satisfied: pandas in c:\\users\\claud\\anaconda3\\lib\\site-packages (1.5.3)\n",
      "Requirement already satisfied: python-dateutil>=2.8.1 in c:\\users\\claud\\anaconda3\\lib\\site-packages (from pandas) (2.8.2)\n",
      "Requirement already satisfied: pytz>=2020.1 in c:\\users\\claud\\anaconda3\\lib\\site-packages (from pandas) (2022.7)\n",
      "Requirement already satisfied: numpy>=1.21.0 in c:\\users\\claud\\anaconda3\\lib\\site-packages (from pandas) (1.24.3)\n",
      "Requirement already satisfied: six>=1.5 in c:\\users\\claud\\anaconda3\\lib\\site-packages (from python-dateutil>=2.8.1->pandas) (1.16.0)\n",
      "Note: you may need to restart the kernel to use updated packages.\n"
     ]
    }
   ],
   "source": [
    "pip install pandas"
   ]
  },
  {
   "cell_type": "code",
   "execution_count": 4,
   "id": "c4632e3c-afa1-4b6f-ab32-2441d669b9a0",
   "metadata": {},
   "outputs": [],
   "source": [
    "import numpy as np\n",
    "import matplotlib.pyplot as plt\n",
    "import pandas as pd"
   ]
  },
  {
   "cell_type": "code",
   "execution_count": 5,
   "id": "2c1c01bf-cf4b-449d-94ab-fd8a1a6a2767",
   "metadata": {},
   "outputs": [],
   "source": [
    "dataset=pd.read_csv('customer.csv', sep=\";\")"
   ]
  },
  {
   "cell_type": "code",
   "execution_count": 6,
   "id": "865eee9a-3f1a-481a-bd0e-b5676fa8ea07",
   "metadata": {},
   "outputs": [],
   "source": [
    "n=len(dataset)-1 #number of clients"
   ]
  },
  {
   "cell_type": "code",
   "execution_count": 7,
   "id": "ee23fc68-14be-4fcb-bb2e-3d26c2452d9e",
   "metadata": {},
   "outputs": [
    {
     "data": {
      "text/plain": [
       "9"
      ]
     },
     "execution_count": 7,
     "metadata": {},
     "output_type": "execute_result"
    }
   ],
   "source": [
    "n"
   ]
  },
  {
   "cell_type": "code",
   "execution_count": 8,
   "id": "9b4e3014-f367-4a4d-af44-641ba351fe54",
   "metadata": {},
   "outputs": [],
   "source": [
    "Q=50 #vehicle capacity"
   ]
  },
  {
   "cell_type": "code",
   "execution_count": 9,
   "id": "61ae5a04-5dd6-4fe5-840c-e2a7ae322353",
   "metadata": {},
   "outputs": [],
   "source": [
    "N = [i for i in range(1, n+1)] #set of clients\n",
    "V = [0] + N #clients+central depot"
   ]
  },
  {
   "cell_type": "code",
   "execution_count": 10,
   "id": "8103bfa9-fe87-488f-8deb-6edb4bd7a3af",
   "metadata": {},
   "outputs": [
    {
     "data": {
      "text/plain": [
       "[1, 2, 3, 4, 5, 6, 7, 8, 9]"
      ]
     },
     "execution_count": 10,
     "metadata": {},
     "output_type": "execute_result"
    }
   ],
   "source": [
    "N"
   ]
  },
  {
   "cell_type": "code",
   "execution_count": 11,
   "id": "70c3067a-4789-4121-a693-08ee23017f03",
   "metadata": {},
   "outputs": [
    {
     "data": {
      "text/plain": [
       "[0, 1, 2, 3, 4, 5, 6, 7, 8, 9]"
      ]
     },
     "execution_count": 11,
     "metadata": {},
     "output_type": "execute_result"
    }
   ],
   "source": [
    "V"
   ]
  },
  {
   "cell_type": "code",
   "execution_count": 12,
   "id": "ed93d277-0e40-4c34-8ea9-c9d205422b7d",
   "metadata": {},
   "outputs": [],
   "source": [
    "q={i: dataset.iloc[i]['DEMAND'] for i in N} #extraction of customers' demand\n",
    "#q = {i: rnd.randint(1, 10) for i in N}"
   ]
  },
  {
   "cell_type": "code",
   "execution_count": 13,
   "id": "350fe48d-31aa-4859-b044-3b9403f21465",
   "metadata": {},
   "outputs": [
    {
     "data": {
      "text/plain": [
       "{1: 19.0, 2: 5.0, 3: 3.0, 4: 11.0, 5: 5.0, 6: 8.0, 7: 17.0, 8: 3.0, 9: 5.0}"
      ]
     },
     "execution_count": 13,
     "metadata": {},
     "output_type": "execute_result"
    }
   ],
   "source": [
    "q"
   ]
  },
  {
   "cell_type": "code",
   "execution_count": 14,
   "id": "9c35100a-dd1c-4dea-9579-aecbb08438b0",
   "metadata": {},
   "outputs": [],
   "source": [
    "K=range(1,3) #numer of vehicles range(1,4)--> 3 vehicles, range(1,3)--> 2 vehicles..."
   ]
  },
  {
   "cell_type": "code",
   "execution_count": 15,
   "id": "706bf7e1-24e6-4d92-abc0-e35152f1cffa",
   "metadata": {},
   "outputs": [],
   "source": [
    "xc = dataset['XCOORD'].tolist() #extract locations\n",
    "yc = dataset['YCOORD'].tolist()"
   ]
  },
  {
   "cell_type": "code",
   "execution_count": 16,
   "id": "a0808976-278f-4e11-afac-c68c5e766397",
   "metadata": {},
   "outputs": [
    {
     "data": {
      "text/plain": [
       "[42.352345,\n",
       " 41.987654,\n",
       " 43.123456,\n",
       " 45.098765,\n",
       " 40.876543,\n",
       " 42.56789,\n",
       " 44.210987,\n",
       " 41.432109,\n",
       " 43.890123,\n",
       " 40.345678]"
      ]
     },
     "execution_count": 16,
     "metadata": {},
     "output_type": "execute_result"
    }
   ],
   "source": [
    "xc"
   ]
  },
  {
   "cell_type": "code",
   "execution_count": 17,
   "id": "2cba6c7d-5298-4335-9665-d44b096b9f09",
   "metadata": {},
   "outputs": [
    {
     "data": {
      "text/plain": [
       "[10.245678,\n",
       " 12.098765,\n",
       " 6.56789,\n",
       " 15.432109,\n",
       " 9.876543,\n",
       " 7.890123,\n",
       " 17.654321,\n",
       " 13.210987,\n",
       " 8.432109,\n",
       " 11.123456]"
      ]
     },
     "execution_count": 17,
     "metadata": {},
     "output_type": "execute_result"
    }
   ],
   "source": [
    "yc"
   ]
  },
  {
   "cell_type": "code",
   "execution_count": 18,
   "id": "e1eb4d20-27a2-4f6c-8f1d-ecd52f8a0977",
   "metadata": {},
   "outputs": [
    {
     "data": {
      "text/plain": [
       "<matplotlib.collections.PathCollection at 0x1c14846b510>"
      ]
     },
     "execution_count": 18,
     "metadata": {},
     "output_type": "execute_result"
    },
    {
     "data": {
      "image/png": "[encoded data removed]",
      "text/plain": [
       "<Figure size 640x480 with 1 Axes>"
      ]
     },
     "metadata": {},
     "output_type": "display_data"
    }
   ],
   "source": [
    "plt.plot(xc[0], yc[0], c='r', marker='s') # central depot location\n",
    "plt.scatter(xc[1:], yc[1:], c='b') #clients location"
   ]
  },
  {
   "cell_type": "code",
   "execution_count": 19,
   "id": "da567813",
   "metadata": {},
   "outputs": [],
   "source": [
    "# function to compute distances between nodes\n",
    "from numpy import sin, cos, arccos, pi, round\n",
    "\n",
    "def rad2deg(radians):\n",
    "    degrees = radians * 180 / pi\n",
    "    return degrees\n",
    "\n",
    "def deg2rad(degrees):\n",
    "    radians = degrees * pi / 180\n",
    "    return radians\n",
    "\n",
    "def getDistanceBetweenPointsNew(latitude1, longitude1, latitude2, longitude2, unit = 'kilometers'):\n",
    "    \n",
    "    theta = longitude1 - longitude2\n",
    "    \n",
    "    distance = 60 * 1.1515 * rad2deg(\n",
    "        arccos(\n",
    "            (sin(deg2rad(latitude1)) * sin(deg2rad(latitude2))) + \n",
    "            (cos(deg2rad(latitude1)) * cos(deg2rad(latitude2)) * cos(deg2rad(theta)))\n",
    "        )\n",
    "    )\n",
    "    \n",
    "    if unit == 'miles':\n",
    "        return round(distance, 2)\n",
    "    if unit == 'kilometers':\n",
    "        return round(distance * 1.609344, 2)"
   ]
  },
  {
   "cell_type": "code",
   "execution_count": 20,
   "id": "77340351",
   "metadata": {},
   "outputs": [],
   "source": [
    "c = {(i, j): getDistanceBetweenPointsNew(xc[i], yc[i], xc[j], yc[j], 'kilometers') for i in V for j in V}\n",
    " #distance between nodes"
   ]
  },
  {
   "cell_type": "code",
   "execution_count": 21,
   "id": "7f38ae85",
   "metadata": {},
   "outputs": [
    {
     "data": {
      "text/plain": [
       "{(0, 0): 0.0,\n",
       " (0, 1): 158.0,\n",
       " (0, 2): 312.31,\n",
       " (0, 3): 516.47,\n",
       " (0, 4): 166.94,\n",
       " (0, 5): 194.7,\n",
       " (0, 6): 634.03,\n",
       " (0, 7): 265.89,\n",
       " (0, 8): 225.6,\n",
       " (0, 9): 234.84,\n",
       " (1, 0): 158.0,\n",
       " (1, 1): 0.0,\n",
       " (1, 2): 470.18,\n",
       " (1, 3): 437.91,\n",
       " (1, 4): 222.66,\n",
       " (1, 5): 352.16,\n",
       " (1, 6): 514.18,\n",
       " (1, 7): 111.08,\n",
       " (1, 8): 365.77,\n",
       " (1, 9): 199.99,\n",
       " (2, 0): 312.31,\n",
       " (2, 1): 470.18,\n",
       " (2, 2): 0.0,\n",
       " (2, 3): 740.5,\n",
       " (2, 4): 370.3,\n",
       " (2, 5): 124.24,\n",
       " (2, 6): 899.14,\n",
       " (2, 7): 577.77,\n",
       " (2, 8): 172.82,\n",
       " (2, 9): 488.0,\n",
       " (3, 0): 516.47,\n",
       " (3, 1): 437.91,\n",
       " (3, 2): 740.5,\n",
       " (3, 3): 0.0,\n",
       " (3, 4): 651.28,\n",
       " (3, 5): 666.82,\n",
       " (3, 6): 201.58,\n",
       " (3, 7): 445.55,\n",
       " (3, 8): 571.02,\n",
       " (3, 9): 634.74,\n",
       " (4, 0): 166.94,\n",
       " (4, 1): 222.66,\n",
       " (4, 2): 370.3,\n",
       " (4, 3): 651.28,\n",
       " (4, 4): 0.0,\n",
       " (4, 5): 250.07,\n",
       " (4, 6): 736.71,\n",
       " (4, 7): 285.89,\n",
       " (4, 8): 355.44,\n",
       " (4, 9): 120.67,\n",
       " (5, 0): 194.7,\n",
       " (5, 1): 352.16,\n",
       " (5, 2): 124.24,\n",
       " (5, 3): 666.82,\n",
       " (5, 4): 250.07,\n",
       " (5, 5): 0.0,\n",
       " (5, 6): 809.3,\n",
       " (5, 7): 457.35,\n",
       " (5, 8): 153.43,\n",
       " (5, 9): 365.53,\n",
       " (6, 0): 634.03,\n",
       " (6, 1): 514.18,\n",
       " (6, 2): 899.14,\n",
       " (6, 3): 201.58,\n",
       " (6, 4): 736.71,\n",
       " (6, 5): 809.3,\n",
       " (6, 6): 0.0,\n",
       " (6, 7): 476.09,\n",
       " (6, 8): 737.47,\n",
       " (6, 9): 687.65,\n",
       " (7, 0): 265.89,\n",
       " (7, 1): 111.08,\n",
       " (7, 2): 577.77,\n",
       " (7, 3): 445.55,\n",
       " (7, 4): 285.89,\n",
       " (7, 5): 457.35,\n",
       " (7, 6): 476.09,\n",
       " (7, 7): 0.0,\n",
       " (7, 8): 476.72,\n",
       " (7, 9): 213.02,\n",
       " (8, 0): 225.6,\n",
       " (8, 1): 365.77,\n",
       " (8, 2): 172.82,\n",
       " (8, 3): 571.02,\n",
       " (8, 4): 355.44,\n",
       " (8, 5): 153.43,\n",
       " (8, 6): 737.47,\n",
       " (8, 7): 476.72,\n",
       " (8, 8): 0.0,\n",
       " (8, 9): 452.25,\n",
       " (9, 0): 234.84,\n",
       " (9, 1): 199.99,\n",
       " (9, 2): 488.0,\n",
       " (9, 3): 634.74,\n",
       " (9, 4): 120.67,\n",
       " (9, 5): 365.53,\n",
       " (9, 6): 687.65,\n",
       " (9, 7): 213.02,\n",
       " (9, 8): 452.25,\n",
       " (9, 9): 0.0}"
      ]
     },
     "execution_count": 21,
     "metadata": {},
     "output_type": "execute_result"
    }
   ],
   "source": [
    "c"
   ]
  },
  {
   "cell_type": "code",
   "execution_count": 22,
   "id": "b868cfb4-8676-4af0-b2e6-4efb5ad31392",
   "metadata": {},
   "outputs": [],
   "source": [
    "#pip install gurobipy"
   ]
  },
  {
   "cell_type": "code",
   "execution_count": 23,
   "id": "a2cde180-32fe-470c-ba97-77c70f15cde0",
   "metadata": {},
   "outputs": [],
   "source": [
    "from gurobipy import Model, GRB, quicksum"
   ]
  },
  {
   "cell_type": "code",
   "execution_count": 24,
   "id": "66c80ecf-0b4f-4511-9b24-ea0639b63516",
   "metadata": {},
   "outputs": [],
   "source": [
    "A = [(i, j, k)  for k in K for i in V for j in V]\n",
    "#Y = [(i, k) for i in V for k in K]\n",
    "U = [(i, k) for k in K for i in N ]\n",
    "# definition of variables domain"
   ]
  },
  {
   "cell_type": "code",
   "execution_count": 25,
   "id": "ba4f90a0-1b3d-40ad-a422-1e72190966ac",
   "metadata": {},
   "outputs": [
    {
     "name": "stdout",
     "output_type": "stream",
     "text": [
      "Set parameter Username\n",
      "Academic license - for non-commercial use only - expires 2024-07-27\n"
     ]
    }
   ],
   "source": [
    "mdl = Model('CVRP')"
   ]
  },
  {
   "cell_type": "code",
   "execution_count": 26,
   "id": "fe8c1b37-a962-4162-805e-b6241c38d893",
   "metadata": {},
   "outputs": [],
   "source": [
    "#decision variables definition\n",
    "x = mdl.addVars(A, vtype=GRB.BINARY) #travelled arcs\n",
    "#z = mdl.addVars(Y, vtype=GRB.BINARY) #assignment of vehicles\n",
    "u = mdl.addVars(U, vtype=GRB.CONTINUOUS) #sub-tours avoidance"
   ]
  },
  {
   "cell_type": "code",
   "execution_count": 27,
   "id": "4a8ceeef-ec51-447c-b5cc-f28146a46c67",
   "metadata": {},
   "outputs": [],
   "source": [
    "mdl.modelSense = GRB.MINIMIZE\n",
    "mdl.setObjective(quicksum(x[i, j, k]*c[i, j] for i, j, k in A if i != j))\n"
   ]
  },
  {
   "cell_type": "code",
   "execution_count": 28,
   "id": "fe647fe3-c4af-4bd3-a9ee-d0d5edd48eca",
   "metadata": {},
   "outputs": [
    {
     "data": {
      "text/plain": [
       "{(1, 1): <gurobi.Constr *Awaiting Model Update*>,\n",
       " (1, 2): <gurobi.Constr *Awaiting Model Update*>,\n",
       " (2, 1): <gurobi.Constr *Awaiting Model Update*>,\n",
       " (2, 2): <gurobi.Constr *Awaiting Model Update*>,\n",
       " (3, 1): <gurobi.Constr *Awaiting Model Update*>,\n",
       " (3, 2): <gurobi.Constr *Awaiting Model Update*>,\n",
       " (4, 1): <gurobi.Constr *Awaiting Model Update*>,\n",
       " (4, 2): <gurobi.Constr *Awaiting Model Update*>,\n",
       " (5, 1): <gurobi.Constr *Awaiting Model Update*>,\n",
       " (5, 2): <gurobi.Constr *Awaiting Model Update*>,\n",
       " (6, 1): <gurobi.Constr *Awaiting Model Update*>,\n",
       " (6, 2): <gurobi.Constr *Awaiting Model Update*>,\n",
       " (7, 1): <gurobi.Constr *Awaiting Model Update*>,\n",
       " (7, 2): <gurobi.Constr *Awaiting Model Update*>,\n",
       " (8, 1): <gurobi.Constr *Awaiting Model Update*>,\n",
       " (8, 2): <gurobi.Constr *Awaiting Model Update*>,\n",
       " (9, 1): <gurobi.Constr *Awaiting Model Update*>,\n",
       " (9, 2): <gurobi.Constr *Awaiting Model Update*>}"
      ]
     },
     "execution_count": 28,
     "metadata": {},
     "output_type": "execute_result"
    }
   ],
   "source": [
    "mdl.addConstrs(quicksum(x[i,j,k] for i in V)==quicksum(x[j,i,k] for i in V) for j in V for k in K) #Vehicle leaves node that it enters\n",
    "mdl.addConstrs(quicksum(x[i,j,k] for k in K for i in V)==1 for j in N) #Ensure that every node is entered once\n",
    "mdl.addConstrs(quicksum(x[0,j,k] for j in N)==1 for k in K) #Every vehicle leaves the depot\n",
    "mdl.addConstrs(quicksum(q[j]*x[i,j,k] for i in V for j in N)<=Q for k in K) #Capacity constraint\n",
    "mdl.addConstrs(x[i,i,k]==0 for i in V for k in K) #Arcs form i to i are not viable\n",
    "\n",
    "mdl.addConstrs((u[j,k]-u[i,k])>=(q[j]-Q*(1-x[i,j,k])) for k in K for i in N for j in N if i!=j)\n",
    "mdl.addConstrs(u[i,k]>=q[i] for i in N for k in K)\n",
    "mdl.addConstrs(u[i,k]<=Q for i in N for k in K) #sub-tours elimination\n",
    "\n",
    "#mdl.addConstrs(quicksum(x[j, i, k]*(c[j,i]/70) for j in V  for i in V if j!=i)<= 8 for k in K) Travel time constraint"
   ]
  },
  {
   "cell_type": "code",
   "execution_count": 29,
   "id": "cda0a2f0-c35d-4f58-b3ab-c3b5b441b765",
   "metadata": {},
   "outputs": [
    {
     "name": "stdout",
     "output_type": "stream",
     "text": [
      "Gurobi Optimizer version 10.0.2 build v10.0.2rc0 (win64)\n",
      "\n",
      "CPU model: Intel(R) Core(TM) i7-8550U CPU @ 1.80GHz, instruction set [SSE2|AVX|AVX2]\n",
      "Thread count: 4 physical cores, 8 logical processors, using up to 8 threads\n",
      "\n",
      "Optimize a model with 233 rows, 218 columns and 1226 nonzeros\n",
      "Model fingerprint: 0xde15a0f1\n",
      "Variable types: 18 continuous, 200 integer (200 binary)\n",
      "Coefficient statistics:\n",
      "  Matrix range     [1e+00, 5e+01]\n",
      "  Objective range  [1e+02, 9e+02]\n",
      "  Bounds range     [1e+00, 1e+00]\n",
      "  RHS range        [1e+00, 5e+01]\n",
      "Presolve removed 56 rows and 20 columns\n",
      "Presolve time: 0.01s\n",
      "Presolved: 177 rows, 198 columns, 2120 nonzeros\n",
      "Variable types: 18 continuous, 180 integer (180 binary)\n",
      "\n",
      "Root relaxation: objective 1.847450e+03, 56 iterations, 0.00 seconds (0.00 work units)\n",
      "\n",
      "    Nodes    |    Current Node    |     Objective Bounds      |     Work\n",
      " Expl Unexpl |  Obj  Depth IntInf | Incumbent    BestBd   Gap | It/Node Time\n",
      "\n",
      "     0     0 1847.45000    0   12          - 1847.45000      -     -    0s\n",
      "H    0     0                    3942.2000000 1876.09023  52.4%     -    0s\n",
      "     0     0 1876.09023    0   22 3942.20000 1876.09023  52.4%     -    0s\n",
      "H    0     0                    2801.2800000 1876.09023  33.0%     -    0s\n",
      "H    0     0                    2797.3200000 1876.09023  32.9%     -    0s\n",
      "H    0     0                    2710.3000000 2400.19840  11.4%     -    0s\n",
      "     0     0 2400.19840    0   10 2710.30000 2400.19840  11.4%     -    0s\n",
      "H    0     0                    2709.9800000 2400.19840  11.4%     -    0s\n",
      "H    0     0                    2665.9300000 2400.19840  10.0%     -    0s\n",
      "     0     0 2400.19840    0   18 2665.93000 2400.19840  10.0%     -    0s\n",
      "H    0     0                    2591.4600000 2400.19840  7.38%     -    0s\n",
      "     0     0 2412.16000    0   15 2591.46000 2412.16000  6.92%     -    0s\n",
      "     0     0 2412.16000    0   12 2591.46000 2412.16000  6.92%     -    0s\n",
      "     0     0 2412.16000    0   10 2591.46000 2412.16000  6.92%     -    0s\n",
      "     0     0 2412.16000    0   18 2591.46000 2412.16000  6.92%     -    0s\n",
      "     0     0 2412.16000    0   12 2591.46000 2412.16000  6.92%     -    0s\n",
      "     0     0 2412.16000    0   12 2591.46000 2412.16000  6.92%     -    0s\n",
      "     0     0 2412.16000    0   12 2591.46000 2412.16000  6.92%     -    0s\n",
      "     0     0 2412.16000    0   15 2591.46000 2412.16000  6.92%     -    0s\n",
      "     0     0 2412.16000    0   26 2591.46000 2412.16000  6.92%     -    0s\n",
      "     0     0 2412.16000    0   12 2591.46000 2412.16000  6.92%     -    0s\n",
      "     0     0 2412.16000    0   12 2591.46000 2412.16000  6.92%     -    0s\n",
      "     0     2 2436.16000    0   12 2591.46000 2436.16000  5.99%     -    0s\n",
      "\n",
      "Cutting planes:\n",
      "  Learned: 1\n",
      "  Cover: 1\n",
      "  Implied bound: 10\n",
      "  MIR: 8\n",
      "  Inf proof: 1\n",
      "  RLT: 26\n",
      "\n",
      "Explored 107 nodes (1355 simplex iterations) in 0.21 seconds (0.07 work units)\n",
      "Thread count was 8 (of 8 available processors)\n",
      "\n",
      "Solution count 7: 2591.46 2665.93 2709.98 ... 3942.2\n",
      "\n",
      "Optimal solution found (tolerance 1.00e-04)\n",
      "Best objective 2.591460000000e+03, best bound 2.591460000000e+03, gap 0.0000%\n"
     ]
    }
   ],
   "source": [
    "#mdl.Params.MIPGap = 0.5\n",
    "#mdl.Params.TimeLimit = 60  # optimisation duration in seconds\n",
    "mdl.optimize()"
   ]
  },
  {
   "cell_type": "code",
   "execution_count": 30,
   "id": "c1b3192f-a7b6-4984-96f6-5eba00af976e",
   "metadata": {},
   "outputs": [],
   "source": [
    "active_arcs = [a for a in A if x[a].x > 0.99] #travelled arcs"
   ]
  },
  {
   "cell_type": "code",
   "execution_count": 31,
   "id": "3c67a10d-6f6c-4095-b1da-a276f6d4483f",
   "metadata": {},
   "outputs": [
    {
     "data": {
      "text/plain": [
       "[(0, 3, 1),\n",
       " (1, 0, 1),\n",
       " (3, 6, 1),\n",
       " (6, 7, 1),\n",
       " (7, 1, 1),\n",
       " (0, 9, 2),\n",
       " (2, 8, 2),\n",
       " (4, 5, 2),\n",
       " (5, 2, 2),\n",
       " (8, 0, 2),\n",
       " (9, 4, 2)]"
      ]
     },
     "execution_count": 31,
     "metadata": {},
     "output_type": "execute_result"
    }
   ],
   "source": [
    "active_arcs"
   ]
  },
  {
   "cell_type": "code",
   "execution_count": 32,
   "id": "f7913e02-97a8-4ab7-bf65-84f91ef32865",
   "metadata": {},
   "outputs": [
    {
     "data": {
      "text/plain": [
       "<matplotlib.collections.PathCollection at 0x1c1485ca490>"
      ]
     },
     "execution_count": 32,
     "metadata": {},
     "output_type": "execute_result"
    },
    {
     "data": {
      "image/png": "[encoded data removed]",
      "text/plain": [
       "<Figure size 640x480 with 1 Axes>"
      ]
     },
     "metadata": {},
     "output_type": "display_data"
    }
   ],
   "source": [
    "for i, j, k in active_arcs:\n",
    "    plt.plot([xc[i], xc[j]], [yc[i], yc[j]], c='g', zorder=0)\n",
    "plt.plot(xc[0], yc[0], c='r', marker='s')\n",
    "plt.scatter(xc[1:], yc[1:], c='b')"
   ]
  },
  {
   "cell_type": "code",
   "execution_count": 33,
   "id": "45db6cd1-aab0-4981-ae41-32a32ba7dabe",
   "metadata": {},
   "outputs": [],
   "source": [
    "#travel time\n",
    "time1={k:quicksum(c[i,j]/50 for i,j, k in active_arcs if k==1) } #vehicle 1\n",
    "time2={k:quicksum(c[i,j]/50 for i,j, k in active_arcs if k==2) } #vehicle 2\n"
   ]
  },
  {
   "cell_type": "code",
   "execution_count": 34,
   "id": "84ccc404",
   "metadata": {},
   "outputs": [
    {
     "data": {
      "text/plain": [
       "{2: <gurobi.LinExpr: 29.2644>}"
      ]
     },
     "execution_count": 34,
     "metadata": {},
     "output_type": "execute_result"
    }
   ],
   "source": [
    "time1"
   ]
  },
  {
   "cell_type": "code",
   "execution_count": 35,
   "id": "897d4713",
   "metadata": {},
   "outputs": [
    {
     "data": {
      "text/plain": [
       "{2: <gurobi.LinExpr: 22.564799999999998>}"
      ]
     },
     "execution_count": 35,
     "metadata": {},
     "output_type": "execute_result"
    }
   ],
   "source": [
    "time2"
   ]
  },
  {
   "cell_type": "code",
   "execution_count": null,
   "id": "d1c19a4d",
   "metadata": {},
   "outputs": [],
   "source": []
  }
 ],
 "metadata": {
  "kernelspec": {
   "display_name": "Python 3 (ipykernel)",
   "language": "python",
   "name": "python3"
  },
  "language_info": {
   "codemirror_mode": {
    "name": "ipython",
    "version": 3
   },
   "file_extension": ".py",
   "mimetype": "text/x-python",
   "name": "python",
   "nbconvert_exporter": "python",
   "pygments_lexer": "ipython3",
   "version": "3.11.3"
  }
 },
 "nbformat": 4,
 "nbformat_minor": 5
}
